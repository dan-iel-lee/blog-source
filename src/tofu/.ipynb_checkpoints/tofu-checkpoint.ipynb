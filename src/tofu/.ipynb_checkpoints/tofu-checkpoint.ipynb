{
 "cells": [
  {
   "cell_type": "code",
   "execution_count": null,
   "metadata": {},
   "outputs": [],
   "source": [
    "from tofu import total_time_required_for_confidence, flips_required_for_confidence, times_required_dataframe, prob_X_atleast_m\n",
    "import tofu\n",
    "import pandas as pd\n",
    "import matplotlib.pyplot as plt"
   ]
  },
  {
   "cell_type": "code",
   "execution_count": null,
   "metadata": {},
   "outputs": [],
   "source": [
    "FLIPS_COL_NAME = \"Flips\"\n",
    "PROBS_COL_NAME = \"Probabilities\"\n",
    "\n",
    "# First I wanted to take a look at the function from flips -> probability\n",
    "def generate_probs_dataframe(k: int, m: int, top: int, step: int):\n",
    "    ran = range(1, top, step)\n",
    "\n",
    "    flips = pd.Series(ran, name=FLIPS_COL_NAME)\n",
    "    probs = pd.Series(map(lambda n: prob_X_atleast_m(n, k, m), range(1, top, step)), name=PROBS_COL_NAME)\n",
    "\n",
    "    return pd.concat([flips, probs], 1)\n",
    "\n",
    "df = generate_probs_dataframe(2, 4, 25, 1) # 1 minute between flips, 4 browned sides\n",
    "\n",
    "df.plot(FLIPS_COL_NAME, PROBS_COL_NAME)"
   ]
  },
  {
   "cell_type": "code",
   "execution_count": null,
   "metadata": {},
   "outputs": [],
   "source": [
    "# The graph looks like a sigmoid function whose slope increases rapidly, and decreases slowly\n",
    "# Is there a closed form function with this shape?"
   ]
  },
  {
   "cell_type": "code",
   "execution_count": null,
   "metadata": {},
   "outputs": [],
   "source": [
    "# NOW..... to optimize"
   ]
  },
  {
   "cell_type": "code",
   "execution_count": null,
   "metadata": {},
   "outputs": [],
   "source": [
    "df = times_required_dataframe(0.1, 2, 0.90, 4, 6)\n",
    "df.plot(\"K\", \"Times\")"
   ]
  },
  {
   "cell_type": "code",
   "execution_count": null,
   "metadata": {},
   "outputs": [],
   "source": [
    "total_time_required_for_confidence(0.1, 2, 0.90, 3,4) # time in the optimal case"
   ]
  },
  {
   "cell_type": "code",
   "execution_count": null,
   "metadata": {},
   "outputs": [],
   "source": [
    "flips_required_for_confidence(0.90, 3, 4) # number of flips in the optimal case"
   ]
  },
  {
   "cell_type": "code",
   "execution_count": null,
   "metadata": {},
   "outputs": [],
   "source": [
    "# I wanted to see what happens with different confidence and face count targets\n",
    "\n",
    "conf_levels = [0.5, 0.6, 0.7, 0.8, 0.9, 0.95]\n",
    "face_counts = [3,4,5]\n",
    "\n",
    "fig, axs = plt.subplots(len(conf_levels), len(face_counts), figsize=(12, 24), sharex='col')\n",
    "# plot plots\n",
    "for i in range(0, len(conf_levels)):\n",
    "    for j in range(0, len(face_counts)):\n",
    "        conf_level = conf_levels[i]\n",
    "        face_count = face_counts[j]\n",
    "        df = times_required_dataframe(0.1, 2, conf_level, face_count, 9)\n",
    "        df.plot(\"K\", \"Times\", ax=axs[i, j])\n",
    "        axs[i, j].set_title(\"(Conf={}%, m={})\".format(conf_level*100, face_count))\n",
    "\n",
    "plt.show()"
   ]
  }
 ],
 "metadata": {
  "kernelspec": {
   "display_name": "Python 3",
   "language": "python",
   "name": "python3"
  },
  "language_info": {
   "codemirror_mode": {
    "name": "ipython",
    "version": 3
   },
   "file_extension": ".py",
   "mimetype": "text/x-python",
   "name": "python",
   "nbconvert_exporter": "python",
   "pygments_lexer": "ipython3",
   "version": "3.8.3"
  }
 },
 "nbformat": 4,
 "nbformat_minor": 4
}
